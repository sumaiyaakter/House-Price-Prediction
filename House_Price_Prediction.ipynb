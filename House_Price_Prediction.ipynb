{
  "nbformat": 4,
  "nbformat_minor": 0,
  "metadata": {
    "colab": {
      "provenance": [],
      "mount_file_id": "1Uufq81jtSmF11UqYAOYF8hNVtBfFsa05",
      "authorship_tag": "ABX9TyOa5C+yRXdmL3zGzpA04jPE",
      "include_colab_link": true
    },
    "kernelspec": {
      "name": "python3",
      "display_name": "Python 3"
    },
    "language_info": {
      "name": "python"
    }
  },
  "cells": [
    {
      "cell_type": "markdown",
      "metadata": {
        "id": "view-in-github",
        "colab_type": "text"
      },
      "source": [
        "<a href=\"https://colab.research.google.com/github/sumaiyaakter/House-Price-Prediction/blob/main/House_Price_Prediction.ipynb\" target=\"_parent\"><img src=\"https://colab.research.google.com/assets/colab-badge.svg\" alt=\"Open In Colab\"/></a>"
      ]
    },
    {
      "cell_type": "markdown",
      "source": [
        "# Load Modules / Libraries"
      ],
      "metadata": {
        "id": "87VJlTO2PeR_"
      }
    },
    {
      "cell_type": "code",
      "execution_count": null,
      "metadata": {
        "id": "vMO4FoRzMBUi"
      },
      "outputs": [],
      "source": [
        "import pandas as pd\n",
        "import numpy as np"
      ]
    },
    {
      "cell_type": "markdown",
      "source": [
        "# Data Load"
      ],
      "metadata": {
        "id": "LJQkGiPGPuPw"
      }
    },
    {
      "cell_type": "code",
      "source": [
        "df = pd.read_csv('/content/drive/MyDrive/01.Defense/housing_price_dataset.csv')\n",
        "df"
      ],
      "metadata": {
        "id": "QU1H4pnLNCUR"
      },
      "execution_count": null,
      "outputs": []
    },
    {
      "cell_type": "code",
      "source": [
        "df.shape"
      ],
      "metadata": {
        "id": "HJ0LnqFUN20x"
      },
      "execution_count": null,
      "outputs": []
    },
    {
      "cell_type": "code",
      "source": [
        "df.dtypes"
      ],
      "metadata": {
        "id": "A4n0ksf7P8dY"
      },
      "execution_count": null,
      "outputs": []
    },
    {
      "cell_type": "code",
      "source": [
        "df.isnull().sum()"
      ],
      "metadata": {
        "id": "GKlio9NqN6A2"
      },
      "execution_count": null,
      "outputs": []
    },
    {
      "cell_type": "markdown",
      "source": [
        "# Missing value Handling"
      ],
      "metadata": {
        "id": "ranDqCQqP6V-"
      }
    },
    {
      "cell_type": "code",
      "source": [
        "df['Neighborhood'].value_counts()"
      ],
      "metadata": {
        "id": "EwhyZJ5pEPuv"
      },
      "execution_count": null,
      "outputs": []
    },
    {
      "cell_type": "code",
      "source": [
        "df['Neighborhood'] = df['Neighborhood'].fillna('Suburb')"
      ],
      "metadata": {
        "id": "RgJVjRrvEQ_H"
      },
      "execution_count": null,
      "outputs": []
    },
    {
      "cell_type": "code",
      "source": [
        "df.SquareFeet.mean()"
      ],
      "metadata": {
        "id": "ZCxQzarTERHe"
      },
      "execution_count": null,
      "outputs": []
    },
    {
      "cell_type": "code",
      "source": [
        "df['SquareFeet'] = df['SquareFeet'].fillna(df['SquareFeet'].mean())"
      ],
      "metadata": {
        "id": "t-sAWz-YEPz_"
      },
      "execution_count": null,
      "outputs": []
    },
    {
      "cell_type": "code",
      "source": [
        "df.Bedrooms.mean()"
      ],
      "metadata": {
        "id": "gHvn7w9hQSE_"
      },
      "execution_count": null,
      "outputs": []
    },
    {
      "cell_type": "code",
      "source": [
        "df['Bedrooms'] = df['Bedrooms'].fillna(df['Bedrooms'].mean())"
      ],
      "metadata": {
        "id": "09A_NHANQcZ_"
      },
      "execution_count": null,
      "outputs": []
    },
    {
      "cell_type": "code",
      "source": [
        "df.Bathrooms.mean()"
      ],
      "metadata": {
        "id": "mYs5LZ1vQtY1"
      },
      "execution_count": null,
      "outputs": []
    },
    {
      "cell_type": "code",
      "source": [
        "df['Bathrooms'] = df['Bathrooms'].fillna(df['Bathrooms'].mean())"
      ],
      "metadata": {
        "id": "wZK-2tjxQtc1"
      },
      "execution_count": null,
      "outputs": []
    },
    {
      "cell_type": "code",
      "source": [
        "df.YearBuilt.mean()"
      ],
      "metadata": {
        "id": "674hldtdQt1V"
      },
      "execution_count": null,
      "outputs": []
    },
    {
      "cell_type": "code",
      "source": [
        "df['YearBuilt'] = df['YearBuilt'].fillna(df['YearBuilt'].mean())"
      ],
      "metadata": {
        "id": "T0cU6lNLQv-m"
      },
      "execution_count": null,
      "outputs": []
    },
    {
      "cell_type": "code",
      "source": [
        "df.Price.mean()"
      ],
      "metadata": {
        "id": "2xrgAQVPQtgt"
      },
      "execution_count": null,
      "outputs": []
    },
    {
      "cell_type": "code",
      "source": [
        "df['Price'] = df['Price'].fillna(df['Price'].mean())"
      ],
      "metadata": {
        "id": "kHn-DTX-Qtkj"
      },
      "execution_count": null,
      "outputs": []
    },
    {
      "cell_type": "code",
      "source": [
        "df.isnull().sum()"
      ],
      "metadata": {
        "id": "lH6LdTz0Qlxe"
      },
      "execution_count": null,
      "outputs": []
    },
    {
      "cell_type": "code",
      "source": [
        "df.head(10)"
      ],
      "metadata": {
        "id": "59-NRJTIFGeP"
      },
      "execution_count": null,
      "outputs": []
    },
    {
      "cell_type": "markdown",
      "source": [
        "# LabelEncoder - Non numerical to numerical"
      ],
      "metadata": {
        "id": "TU-eiJqURU83"
      }
    },
    {
      "cell_type": "code",
      "source": [
        "from sklearn.preprocessing import LabelEncoder\n",
        "le = LabelEncoder()"
      ],
      "metadata": {
        "id": "z1xhv0PVRZnW"
      },
      "execution_count": null,
      "outputs": []
    },
    {
      "cell_type": "code",
      "source": [
        "df['Neighborhood']"
      ],
      "metadata": {
        "id": "XR6H36wxWS_g"
      },
      "execution_count": null,
      "outputs": []
    },
    {
      "cell_type": "code",
      "source": [
        "df['SquareFeet'] = le.fit_transform(df['SquareFeet'])"
      ],
      "metadata": {
        "id": "b11S-ftVbYX3"
      },
      "execution_count": null,
      "outputs": []
    },
    {
      "cell_type": "code",
      "source": [
        "df['Bedrooms'] = le.fit_transform(df['Bedrooms'])"
      ],
      "metadata": {
        "id": "4zcC5U0OGLSH"
      },
      "execution_count": null,
      "outputs": []
    },
    {
      "cell_type": "code",
      "source": [
        "df['Bathrooms'] = le.fit_transform(df['Bathrooms'])"
      ],
      "metadata": {
        "id": "e0hgDGMiGLYu"
      },
      "execution_count": null,
      "outputs": []
    },
    {
      "cell_type": "code",
      "source": [
        "df['Neighborhood'] = le.fit_transform(df['Neighborhood'])"
      ],
      "metadata": {
        "id": "FLzwJtopGLcW"
      },
      "execution_count": null,
      "outputs": []
    },
    {
      "cell_type": "code",
      "source": [
        "df['YearBuilt'] = le.fit_transform(df['YearBuilt'])"
      ],
      "metadata": {
        "id": "becqkAQGGNf_"
      },
      "execution_count": null,
      "outputs": []
    },
    {
      "cell_type": "code",
      "source": [
        "df['Price'] = le.fit_transform(df['Price'])"
      ],
      "metadata": {
        "id": "H-a17p3uGUfv"
      },
      "execution_count": null,
      "outputs": []
    },
    {
      "cell_type": "code",
      "source": [
        "df.dtypes"
      ],
      "metadata": {
        "id": "Hw1bB_UpbbgX"
      },
      "execution_count": null,
      "outputs": []
    },
    {
      "cell_type": "code",
      "source": [
        "df.head()"
      ],
      "metadata": {
        "id": "8pgwu1ZHBVA2"
      },
      "execution_count": null,
      "outputs": []
    },
    {
      "cell_type": "markdown",
      "source": [
        "# Visualise Heatmap"
      ],
      "metadata": {
        "id": "aAr6DknIG1If"
      }
    },
    {
      "cell_type": "code",
      "source": [
        "import seaborn as sns\n",
        "import matplotlib.pyplot as plt"
      ],
      "metadata": {
        "id": "NTAvIICrG2d4"
      },
      "execution_count": null,
      "outputs": []
    },
    {
      "cell_type": "code",
      "source": [
        "plt.figure(figsize=(10,9))\n",
        "plt.title(\"Correlation Heatmap\")\n",
        "sns.heatmap(df.corr(), cmap='RdYlGn', annot = True, linewidths=.5)"
      ],
      "metadata": {
        "id": "XkuGuoYJHEM_"
      },
      "execution_count": null,
      "outputs": []
    },
    {
      "cell_type": "markdown",
      "source": [
        "# Training Model"
      ],
      "metadata": {
        "id": "ddQO-6s-GiK_"
      }
    },
    {
      "cell_type": "code",
      "source": [
        "#x = df.drop('Price', axis=1)\n",
        "#y = df['Price']\n",
        "\n",
        "x = df[::-1]\n",
        "y = df['Price']\n",
        "\n",
        "from sklearn.model_selection import train_test_split\n",
        "x_train, x_test, y_train, y_test = train_test_split(x, y, test_size=0.2, random_state=1)"
      ],
      "metadata": {
        "id": "W977bPW7pwPW"
      },
      "execution_count": null,
      "outputs": []
    },
    {
      "cell_type": "code",
      "source": [
        "x"
      ],
      "metadata": {
        "id": "cHC0lOmrq1vE"
      },
      "execution_count": null,
      "outputs": []
    },
    {
      "cell_type": "code",
      "source": [
        "y"
      ],
      "metadata": {
        "id": "xWk2KU4Zq1zo"
      },
      "execution_count": null,
      "outputs": []
    },
    {
      "cell_type": "markdown",
      "source": [
        "# Apply DecisionTreeClassifier"
      ],
      "metadata": {
        "id": "X-NLsxNQuY-j"
      }
    },
    {
      "cell_type": "code",
      "source": [
        "from sklearn.tree import DecisionTreeClassifier\n",
        "dec_tree = DecisionTreeClassifier()"
      ],
      "metadata": {
        "id": "6AeZRYlWuZIE"
      },
      "execution_count": null,
      "outputs": []
    },
    {
      "cell_type": "code",
      "source": [
        "dec_tree.fit(x_train, y_train)"
      ],
      "metadata": {
        "id": "G8LPtwXd3fY-"
      },
      "execution_count": null,
      "outputs": []
    },
    {
      "cell_type": "code",
      "source": [],
      "metadata": {
        "id": "Kg0aTCzK3hxm"
      },
      "execution_count": null,
      "outputs": []
    },
    {
      "cell_type": "code",
      "source": [],
      "metadata": {
        "id": "WbKaHdOHZImp"
      },
      "execution_count": null,
      "outputs": []
    },
    {
      "cell_type": "code",
      "source": [],
      "metadata": {
        "id": "jV8pjlyp17AF"
      },
      "execution_count": null,
      "outputs": []
    },
    {
      "cell_type": "code",
      "source": [],
      "metadata": {
        "id": "67hkDIwe19Gs"
      },
      "execution_count": null,
      "outputs": []
    },
    {
      "cell_type": "code",
      "source": [],
      "metadata": {
        "id": "BFrAD5lZuZML"
      },
      "execution_count": null,
      "outputs": []
    },
    {
      "cell_type": "code",
      "source": [],
      "metadata": {
        "id": "4GW8JKvXurWk"
      },
      "execution_count": null,
      "outputs": []
    },
    {
      "cell_type": "code",
      "source": [],
      "metadata": {
        "id": "isNjH5auuvr6"
      },
      "execution_count": null,
      "outputs": []
    },
    {
      "cell_type": "code",
      "source": [],
      "metadata": {
        "id": "5heDVuVJuvxR"
      },
      "execution_count": null,
      "outputs": []
    },
    {
      "cell_type": "markdown",
      "source": [
        "# Apply Linear Regression"
      ],
      "metadata": {
        "id": "sx-loHo4tPIt"
      }
    },
    {
      "cell_type": "code",
      "source": [
        "from sklearn.linear_model import LinearRegression\n",
        "lin_reg = LinearRegression()\n",
        "lin_reg"
      ],
      "metadata": {
        "id": "X-0ibn2DGsx_"
      },
      "execution_count": null,
      "outputs": []
    },
    {
      "cell_type": "code",
      "source": [
        "# fit the model\n",
        "lin_reg.fit(x_train, y_train)"
      ],
      "metadata": {
        "id": "IX0N4ST2pwTt"
      },
      "execution_count": null,
      "outputs": []
    },
    {
      "cell_type": "code",
      "source": [
        "lin_reg.predict([[2226,4,1,0,1969]])"
      ],
      "metadata": {
        "id": "mCxQRcKsMP_C"
      },
      "execution_count": null,
      "outputs": []
    },
    {
      "cell_type": "code",
      "source": [
        "# y = M1X1 + M2X2+ ...MnXn + c\n",
        "lin_reg.coef_"
      ],
      "metadata": {
        "id": "XJVC-dobRsVq"
      },
      "execution_count": null,
      "outputs": []
    },
    {
      "cell_type": "code",
      "source": [
        "lin_reg.intercept_"
      ],
      "metadata": {
        "id": "RXaGXqQRRsZb"
      },
      "execution_count": null,
      "outputs": []
    },
    {
      "cell_type": "code",
      "source": [
        "99.51913917*2226 +  5060.26475127*4 +  2863.00127036*1 + 779.79916664*0+ -13.38626996*1969 + 27536.213709099364\n"
      ],
      "metadata": {
        "id": "wRjQUOeERsgB"
      },
      "execution_count": null,
      "outputs": []
    },
    {
      "cell_type": "code",
      "source": [
        "lin_reg.score(x_train, y_train)"
      ],
      "metadata": {
        "id": "OEkE1Mi-yQu6"
      },
      "execution_count": null,
      "outputs": []
    },
    {
      "cell_type": "code",
      "source": [
        "lin_reg.score(x_test, y_test)"
      ],
      "metadata": {
        "id": "6tylfMCOyXpI"
      },
      "execution_count": null,
      "outputs": []
    },
    {
      "cell_type": "code",
      "source": [
        "lin_acc_scr = lin_reg.score(x_test, y_test)\n",
        "lin_acc_scr"
      ],
      "metadata": {
        "id": "PaQHCR2yyYZj"
      },
      "execution_count": null,
      "outputs": []
    },
    {
      "cell_type": "markdown",
      "source": [
        "# New section"
      ],
      "metadata": {
        "id": "ayZ2csbSeZbn"
      }
    },
    {
      "cell_type": "code",
      "source": [],
      "metadata": {
        "id": "5iNSkqXxedbH"
      },
      "execution_count": null,
      "outputs": []
    }
  ]
}